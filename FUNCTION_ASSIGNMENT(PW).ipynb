{
  "nbformat": 4,
  "nbformat_minor": 0,
  "metadata": {
    "colab": {
      "provenance": []
    },
    "kernelspec": {
      "name": "python3",
      "display_name": "Python 3"
    },
    "language_info": {
      "name": "python"
    }
  },
  "cells": [
    {
      "cell_type": "code",
      "execution_count": null,
      "metadata": {
        "id": "vurS7SDx9FJI"
      },
      "outputs": [],
      "source": []
    },
    {
      "cell_type": "markdown",
      "source": [
        "                                THEORY QUESTION\n",
        "\n",
        "  \n",
        "  1. What is the  diffrence between a function and method in a python ?\n",
        "\n",
        "  ans: In python function and methods are similar in that they both perform actions,but the key difference lies in how they are defined and called.\n",
        "\n",
        "  FUNCTION: A block of reusable code defined using def or lamda outside of a class or at the top level in a class,but not tied to an instance.\n",
        "\n",
        "  Example:"
      ],
      "metadata": {
        "id": "RDecNWP-9He5"
      }
    },
    {
      "cell_type": "code",
      "source": [
        "def greet(name):\n",
        "  return f\"hello, {name}!\"\n",
        "  print(greet(\"somnath\"))  # Output hello, somnath!"
      ],
      "metadata": {
        "id": "d-lZ3UCt-887"
      },
      "execution_count": null,
      "outputs": []
    },
    {
      "cell_type": "markdown",
      "source": [
        "keypoints: Functions dont depend on any object unless you explicitly pass one.\n",
        "\n",
        "Method: A function that is defined inside a class and is associated with an object or the class itself. it is called  an object and python automatically passes the object (or class) as the first argument.\n",
        "\n",
        "Example:"
      ],
      "metadata": {
        "id": "PDGRkjDg_rzz"
      }
    },
    {
      "cell_type": "markdown",
      "source": [],
      "metadata": {
        "id": "DCPsujIZBrON"
      }
    },
    {
      "cell_type": "code",
      "source": [
        "class person:\n",
        "  def greet(self, name):\n",
        "    return f\"hello, {name}! I am {self}.\"\n",
        "\n",
        "    p = person()\n",
        "    print(p.greet(\"somnath\")) # Greet() is a method\n"
      ],
      "metadata": {
        "id": "oX9qLXaxAZw4"
      },
      "execution_count": null,
      "outputs": []
    },
    {
      "cell_type": "code",
      "source": [],
      "metadata": {
        "id": "Juwt5E_tAWZ3"
      },
      "execution_count": null,
      "outputs": []
    },
    {
      "cell_type": "markdown",
      "source": [
        "2 Explain the concept of function argument and parameter in python.\n",
        "\n",
        "ans: In python ,arguments and parameters are closely related,but they are not the same thing-the difference is about where they appear in your code.\n",
        "\n",
        "A variable in the function definition that specifies what kind of data the function expects.\n",
        "\n",
        "Argument is the actual value(or data) you pass to the function when calling it.\n",
        "\n",
        "Example:\n"
      ],
      "metadata": {
        "id": "5MhB-PfRBshC"
      }
    },
    {
      "cell_type": "code",
      "source": [
        "def greet(name): # 'name' is a parameter\n",
        "    print(\"f hello, {name}!\")\n",
        "\n",
        "greet(\"somnath\") # \"somnath\" is an argument"
      ],
      "metadata": {
        "id": "3LkF5AkWDRnB"
      },
      "execution_count": null,
      "outputs": []
    },
    {
      "cell_type": "markdown",
      "source": [
        "3 What are the different ways to define and call a function in python ?\n",
        "\n",
        "ans: In python , you can define and call a function in several ways depending on how flexible you want it to be and how you plan to pass data to it.\n",
        "\n",
        "Defining a Function:\n",
        "\n",
        "A. Standard function definition\n"
      ],
      "metadata": {
        "id": "2tswrM9tD3KX"
      }
    },
    {
      "cell_type": "code",
      "source": [
        "def greet()\n",
        "      print(\"Hello\")\n"
      ],
      "metadata": {
        "id": "N5Lsei6qFXhL"
      },
      "execution_count": null,
      "outputs": []
    },
    {
      "cell_type": "markdown",
      "source": [
        "B. Function with parameters"
      ],
      "metadata": {
        "id": "WRLC1XQxFqNY"
      }
    },
    {
      "cell_type": "code",
      "source": [
        "def greet (name):\n",
        "      print(f\"Hello, {name}!\")"
      ],
      "metadata": {
        "id": "dkP8sr9KFwU1"
      },
      "execution_count": null,
      "outputs": []
    },
    {
      "cell_type": "markdown",
      "source": [
        "C. Function with default parameters"
      ],
      "metadata": {
        "id": "z2lXWYMRF2PQ"
      }
    },
    {
      "cell_type": "code",
      "source": [
        "def greet(name=\"Guest\"):\n",
        "      print(f\"Hello, {name}!\")"
      ],
      "metadata": {
        "id": "QD-UsPK6GBbl"
      },
      "execution_count": null,
      "outputs": []
    },
    {
      "cell_type": "markdown",
      "source": [
        "D. variable-length parameters"
      ],
      "metadata": {
        "id": "e97QRpXdGHuS"
      }
    },
    {
      "cell_type": "markdown",
      "source": [],
      "metadata": {
        "id": "Di6DfYjNGOkK"
      }
    },
    {
      "cell_type": "code",
      "source": [
        "def show_info(*args, **kwargs):\n",
        "      print(\"Positional arguments:\", args)\n",
        "      print(\"Keyword arguments:\", kwargs"
      ],
      "metadata": {
        "id": "G3ACuAiIGPmT"
      },
      "execution_count": null,
      "outputs": []
    },
    {
      "cell_type": "markdown",
      "source": [
        "E. lamda(anonymous) functions"
      ],
      "metadata": {
        "id": "ppT3MTNLGd2T"
      }
    },
    {
      "cell_type": "code",
      "source": [
        "square = lamda x: x**2"
      ],
      "metadata": {
        "id": "PqQ7G-jqGm8I"
      },
      "execution_count": null,
      "outputs": []
    },
    {
      "cell_type": "markdown",
      "source": [
        "F. function inside classes"
      ],
      "metadata": {
        "id": "WcnMcHQYGs0C"
      }
    },
    {
      "cell_type": "code",
      "source": [
        "class person:\n",
        "      def greet(self, name):\n",
        "            print(f\"Hello\", {name}!)\n"
      ],
      "metadata": {
        "id": "mfEa33hQG0MH"
      },
      "execution_count": null,
      "outputs": []
    },
    {
      "cell_type": "markdown",
      "source": [
        "CALLING A FUNCTION:\n",
        "\n",
        "A.simple call\n",
        "\n",
        "greet()\n",
        "\n",
        "\n",
        "B. With positional arguments\n",
        "\n",
        "greet(\"Somnath\")\n",
        "\n",
        "C. with keywords arguments"
      ],
      "metadata": {
        "id": "C5RsC8U3HMtk"
      }
    },
    {
      "cell_type": "code",
      "source": [
        "def greet(name, message):\n",
        "      print(f\"{message}, {name}!\")\n",
        "\n",
        "greet(name=\"Somnath\", message=\"Hello\")"
      ],
      "metadata": {
        "id": "_e8BTLKEHzxB"
      },
      "execution_count": null,
      "outputs": []
    },
    {
      "cell_type": "markdown",
      "source": [
        "D. With default arguments\n",
        "\n",
        "greet()   # Uses default value\n",
        "\n",
        "greet(\"Charlie\")  # Overrides default"
      ],
      "metadata": {
        "id": "f-A5Hik_H86Z"
      }
    },
    {
      "cell_type": "markdown",
      "source": [
        "F. calling lamda function\n",
        "\n",
        "print(square(%))  # Output: 25"
      ],
      "metadata": {
        "id": "nTlwuR7eIVTt"
      }
    },
    {
      "cell_type": "markdown",
      "source": [
        "4 What is the purpose of the \"return\" statement in a python function ?\n",
        "\n",
        "ans: In python, the return statement is used inside a function to:\n",
        "\n",
        "A. Send a value back to the caller -\n",
        "when a function finishes running , return specifies the result that should be given back to the code that called the function."
      ],
      "metadata": {
        "id": "yENPLOpoIl23"
      }
    },
    {
      "cell_type": "code",
      "source": [
        "def add(a, b):\n",
        "    return a + b\n",
        "\n",
        "    result = add(3, 5)\n",
        "    print(result)  # Output: 8"
      ],
      "metadata": {
        "id": "S0JBmtkpQM0X"
      },
      "execution_count": null,
      "outputs": []
    },
    {
      "cell_type": "markdown",
      "source": [
        "B. End the function immediately - as soon as python encounters a return statement, the function stops executing, even if there are more lines of code afterward."
      ],
      "metadata": {
        "id": "bIFlb5MKQa2h"
      }
    },
    {
      "cell_type": "code",
      "source": [
        "def test():\n",
        "\n",
        "  print(\"Before return\")\n",
        "  return\n",
        "  print(\"After return\")  # This will never executes"
      ],
      "metadata": {
        "id": "PcAuWc1tQ4AQ"
      },
      "execution_count": null,
      "outputs": []
    },
    {
      "cell_type": "markdown",
      "source": [
        "C. Return multiple value as a tuple- python allows returning more than one value,"
      ],
      "metadata": {
        "id": "mTGuXw_kRUcG"
      }
    },
    {
      "cell_type": "code",
      "source": [
        "def ststs(numbers):\n",
        "    return min(numbers), max(numbers), sum(numbers)\n",
        "\n",
        "    min_val, max_val, sum_val = stats([1, 2, 3, 4, 5])\n",
        "    print(min_val, max_val,total )"
      ],
      "metadata": {
        "collapsed": true,
        "id": "shZFZ41pRk2W"
      },
      "execution_count": null,
      "outputs": []
    },
    {
      "cell_type": "markdown",
      "source": [
        "If no return statement is used , the function automatically returns none."
      ],
      "metadata": {
        "id": "xKYmhAduSaHT"
      }
    },
    {
      "cell_type": "code",
      "source": [
        "def greet():\n",
        "    print(\"Hello\")\n",
        "\n",
        "result = greet()\n",
        "print(result)  # Output: None"
      ],
      "metadata": {
        "id": "_ewjix6USk2L"
      },
      "execution_count": null,
      "outputs": []
    },
    {
      "cell_type": "markdown",
      "source": [
        "5. What are iterators in python and how they differ from iterables ?\n",
        "\n",
        "ans: Iterator and iterables sound smlarly but behave diffrently.\n",
        "\n",
        "An iterable is any python object that can returns its elements one at a time .\n",
        "it has special method  _iter_() which return iterator .\n",
        "\n",
        "example: list, tuple,set,dict,str,range()."
      ],
      "metadata": {
        "id": "4e2hK-NhSoTJ"
      }
    },
    {
      "cell_type": "code",
      "source": [
        "my_list = [1, 2, 3]\n",
        "my_iterator = iter(my_list)  # This is an iterable"
      ],
      "metadata": {
        "id": "suOQw8QnUMnV"
      },
      "execution_count": null,
      "outputs": []
    },
    {
      "cell_type": "markdown",
      "source": [
        "An iterator is the object that actually goes through the elements of n iterable one at a time.\n",
        "\n",
        "it has two special methods:\n",
        "\n",
        "_Iter_() return itself\n",
        "\n",
        "_next_() return the next elements\n",
        "\n",
        "example;"
      ],
      "metadata": {
        "id": "aoeH5QJTUYmH"
      }
    },
    {
      "cell_type": "code",
      "source": [
        "my_list = [1, 2, 3]\n",
        "iterator_obj = iter(my_list) # Convert iterable to iterator\n",
        "\n",
        "print(next(iterator_obj))  # Output: 1\n",
        "print(next(iterator_obj))  # Output: 2\n",
        "print(next(iterator_obj))  # Output: 3\n",
        "\n",
        "#next(iterator_obj) -- raises stop iteration"
      ],
      "metadata": {
        "id": "NcRmLMJwU8rJ"
      },
      "execution_count": null,
      "outputs": []
    },
    {
      "cell_type": "markdown",
      "source": [
        "6. Explain the concept of generators in python and how they are defined ?\n",
        "\n",
        "ans: A generator is a special kind of iterator in python that generates values on the fly instead of storing them all in one memory.\n",
        "\n",
        "How generators works:\n",
        "\n",
        "when a generator function is called, it does not run immediately\n",
        "instead ,it returns a generator object that can be iterated over.\n",
        "\n",
        "each time \"Yield\" is hit,the function pauses,saves its state and resume from there when next() is called again\n",
        "\n",
        "example:\n",
        "\n"
      ],
      "metadata": {
        "id": "Ho726Cj2Vc2N"
      }
    },
    {
      "cell_type": "markdown",
      "source": [],
      "metadata": {
        "id": "ln8wnjaIXNpN"
      }
    },
    {
      "cell_type": "code",
      "source": [
        "def countdown(n):\n",
        "    while n > 0:\n",
        "        yield n\n",
        "        n -= 1\n",
        "\n",
        "# Create a generator object\n",
        "counter = countdown(5)\n",
        "\n",
        "# Iterate over the generator\n",
        "for num in counter:\n",
        "    print(num)"
      ],
      "metadata": {
        "colab": {
          "base_uri": "https://localhost:8080/"
        },
        "id": "E1_WZ-GsXORr",
        "outputId": "39343395-f05b-4339-f3a6-f2f71a4c44e7"
      },
      "execution_count": null,
      "outputs": [
        {
          "output_type": "stream",
          "name": "stdout",
          "text": [
            "5\n",
            "4\n",
            "3\n",
            "2\n",
            "1\n"
          ]
        }
      ]
    },
    {
      "cell_type": "code",
      "source": [],
      "metadata": {
        "id": "Jahm9tcNZH4v"
      },
      "execution_count": null,
      "outputs": []
    },
    {
      "cell_type": "markdown",
      "source": [
        "7. What are the advandages of using generator over regular function ?\n",
        "\n",
        "ans: A. Memory Efficiency -\n",
        "\n",
        "a regular function that returns a list stores all results in memory.\n",
        "a generator produced one value at a time, so it does not need to hold the whole sequence at once."
      ],
      "metadata": {
        "id": "iH5TOcuiXjBN"
      }
    },
    {
      "cell_type": "code",
      "source": [
        "def big_list(): # Regular function\n",
        "    return [i for i in range(10_000_000)] # Huge memory usages\n",
        "\n",
        "    def big_generator(): # Generator function\n",
        "        for i in range(10_000_000):\n",
        "            yield i # Memory fiendly"
      ],
      "metadata": {
        "id": "_xCx_GyjZJe_"
      },
      "execution_count": null,
      "outputs": []
    },
    {
      "cell_type": "markdown",
      "source": [
        "B. Lazy Evalution:\n",
        "\n",
        "values are gebnnerated only when needed\n",
        "useful for infinite sequence or large files"
      ],
      "metadata": {
        "id": "5R9t2cQsZpGz"
      }
    },
    {
      "cell_type": "code",
      "source": [
        "def infinite_numbers():\n",
        "    num = 0\n",
        "    while True:\n",
        "        yield num\n",
        "        num += 1\n",
        "\n",
        "# Create a generator object\n",
        "counter = infinite_numbers()\n",
        "\n",
        "# Print the first 5 numbers\n",
        "for _ in range(5):\n",
        "    print(next(counter))"
      ],
      "metadata": {
        "id": "_k9usKleZ-gL"
      },
      "execution_count": null,
      "outputs": []
    },
    {
      "cell_type": "markdown",
      "source": [
        "C. Beter performance for large data\n",
        "\n",
        "D. Pipeline processing"
      ],
      "metadata": {
        "id": "bwNCMLZTaIMw"
      }
    },
    {
      "cell_type": "code",
      "source": [
        "numbers = (x for x in range(1000))\n",
        "evens = (x for x in numbers if x % 2 == 0)\n",
        "squares = (x**2 for x in evens)\n"
      ],
      "metadata": {
        "id": "KTMBg9TWaVPO"
      },
      "execution_count": null,
      "outputs": []
    },
    {
      "cell_type": "markdown",
      "source": [
        "8.What is a Lambda function in python and when it is typically used ?\n",
        "\n",
        "ans: A lambda function in python is a small , anonymous(nameless) function defined with the lamda keyword.\n",
        "\n",
        "A. Syntax -"
      ],
      "metadata": {
        "id": "Dd9Iv3JDar5R"
      }
    },
    {
      "cell_type": "code",
      "source": [
        "lambda arguments: expression"
      ],
      "metadata": {
        "id": "2YLgXbnLbWjW"
      },
      "execution_count": null,
      "outputs": []
    },
    {
      "cell_type": "markdown",
      "source": [
        "can have any number of arguments , but only one expression.\n",
        "\n",
        "The expression is autonmatically retuned (no return keyword needed.\n",
        "\n",
        "Example:"
      ],
      "metadata": {
        "id": "haG7CL2VbcYw"
      }
    },
    {
      "cell_type": "code",
      "source": [
        "square = lambda x: x**2\n",
        "print(square(5))  # Output: 25"
      ],
      "metadata": {
        "id": "HYlP-AREbwgJ"
      },
      "execution_count": null,
      "outputs": []
    },
    {
      "cell_type": "markdown",
      "source": [
        "When to use lambda function:\n",
        "\n",
        "Lamda function typically used when -\n",
        "\n",
        "you need a short, throwaway function (one_-liear)without formally defining it with def.\n",
        "\n",
        "Used with function like map(), filler(), sorted(), where you pass a function as an argument.\n",
        "\n",
        "Example with map:"
      ],
      "metadata": {
        "id": "Q69vrZXOb5kR"
      }
    },
    {
      "cell_type": "code",
      "source": [
        "nums = [1, 2, 3, 4]\n",
        "squares = list(map(lambda x: x**2, nums))\n",
        "print(squares)  # Output: [1, 4, 9, 16]\n"
      ],
      "metadata": {
        "id": "gihuRF8RctDK"
      },
      "execution_count": null,
      "outputs": []
    },
    {
      "cell_type": "markdown",
      "source": [
        "Example with  filter:"
      ],
      "metadata": {
        "id": "lKIjzxhtdHdN"
      }
    },
    {
      "cell_type": "code",
      "source": [
        "nums: = [1, 2, 3, 4, 5, 6]\n",
        "evens = list(filter(lambda x: x % 2 == 0, nums))\n",
        "print(evens)  # Output: [2, 4, 6]"
      ],
      "metadata": {
        "id": "q39O7uEcdkBO"
      },
      "execution_count": null,
      "outputs": []
    },
    {
      "cell_type": "markdown",
      "source": [],
      "metadata": {
        "id": "HwUlhT3ADpAs"
      }
    },
    {
      "cell_type": "markdown",
      "source": [
        "Example with sorted():"
      ],
      "metadata": {
        "id": "uvuq82qodqtI"
      }
    },
    {
      "cell_type": "code",
      "source": [
        "names [\"Alice\", \"Bob\", \"Charlie\", \"David\"]\n",
        "sorted_names = sorted(names, key=lambda x: len(x))\n",
        "print(sorted_names)  # Output: [\"David\", \"Bob\", \"Alice\", \"Charlie ]\n",
        "\n"
      ],
      "metadata": {
        "id": "mArq2bRBdwZL"
      },
      "execution_count": null,
      "outputs": []
    },
    {
      "cell_type": "markdown",
      "source": [
        "Keypoints: Best for short, simple operations:\n",
        "\n",
        "Avoid using them for complex logic _ use def intead for readablity\n",
        "\n",
        "they returns values autonmatically; nonned for return"
      ],
      "metadata": {
        "id": "9L1U61ygd_NR"
      }
    },
    {
      "cell_type": "markdown",
      "source": [
        "9. Explain the purpose and usage of the map() Function in python.\n",
        "\n",
        "ans: The map() function is used to apply a given function to every item in an itrable (like a list tuple , or set ) and return a new iterator with the results.\n",
        "\n",
        "Syntax-"
      ],
      "metadata": {
        "id": "7t9zoxVZebHi"
      }
    },
    {
      "cell_type": "code",
      "source": [
        "map(function, iterable)"
      ],
      "metadata": {
        "id": "D4qGBiffgaIK"
      },
      "execution_count": null,
      "outputs": []
    },
    {
      "cell_type": "markdown",
      "source": [
        "function to apply and then iterable-sequence of elements tp process.\n",
        "return a map object(iterator) , so you convert it to  a list, tuple etc.\n",
        "\n",
        "basic exqample:"
      ],
      "metadata": {
        "id": "gBYPmxtrgeW7"
      }
    },
    {
      "cell_type": "code",
      "source": [
        "nums = [1, 2, 3, 4]\n",
        "def square(x):\n",
        "    return x**2\n",
        "\n",
        "squares = map(square, nums)\n",
        "print(list(squares))  # Output: [1, 4, 9, 16]"
      ],
      "metadata": {
        "id": "xDKTz98Qg_K6"
      },
      "execution_count": null,
      "outputs": []
    },
    {
      "cell_type": "markdown",
      "source": [
        "Using map with lambda-"
      ],
      "metadata": {
        "id": "cprwBcS8hMVP"
      }
    },
    {
      "cell_type": "code",
      "source": [
        "nums = [1, 2, 3, 4]\n",
        "squares = map(lambda x: x**2, nums)\n",
        "print(list(squares))  # Output: [1, 4, 9, 16]"
      ],
      "metadata": {
        "id": "wc-VoUzahRMr"
      },
      "execution_count": null,
      "outputs": []
    },
    {
      "cell_type": "markdown",
      "source": [
        "When to use:  WHen you want to apply the same operation to every elements of an iterable.\n",
        "\n",
        "when you prefer functional programming style instead of loops\n",
        "when you want lazy evalutions."
      ],
      "metadata": {
        "id": "bHV3zwVuhVfl"
      }
    },
    {
      "cell_type": "markdown",
      "source": [
        "10. What is the difference between map(), reduce(), filter(), function in python.\n",
        "\n",
        "ans: Function: Map()- Apply a function to each element\n",
        "\n",
        "filter()- Keep only elements that match a condition\n",
        "\n",
        "reduce() - Apply a function cumulatively  to reduce iterable to a single value.\n",
        "\n",
        "\n",
        "How each works - Example for each\n",
        "\n",
        "map()_Transform each element"
      ],
      "metadata": {
        "id": "zDMuiPV8h0wk"
      }
    },
    {
      "cell_type": "code",
      "source": [
        "nums = [1, 2, 3, 4]\n",
        "result = map(lambda x: x**2, nums)\n",
        "print(list(result))  # Output: [1, 4, 9, 16]\n",
        "\n",
        "#Use when you want to transform all items in an iterable.\n"
      ],
      "metadata": {
        "id": "kEHaIziMjaiX"
      },
      "execution_count": null,
      "outputs": []
    },
    {
      "cell_type": "markdown",
      "source": [
        "Filter()- Select some elements"
      ],
      "metadata": {
        "id": "R6ez6afZjzAb"
      }
    },
    {
      "cell_type": "code",
      "source": [
        "nums = [1, 2, 3, 4]\n",
        "result = filter(lambda x: x % 2 == 0, nums)\n",
        "print(list(result))  # Output: [2, 4]\n",
        "\n",
        "# use when to combine all items into a single result(sum,product,max etc)"
      ],
      "metadata": {
        "id": "0wp9avZ5kAFb"
      },
      "execution_count": null,
      "outputs": []
    },
    {
      "cell_type": "markdown",
      "source": [
        "reduce()- Accumulute into one value"
      ],
      "metadata": {
        "id": "TDI2bDuckDjd"
      }
    },
    {
      "cell_type": "code",
      "source": [
        "fro, functools import reduce\n",
        "nums = [1, 2, 3, 4]\n",
        "result = reduce(lambda x, y: x + y, nums)\n",
        "print(result)  # Output: 10\n",
        "\n",
        "# Use when you want to combine al items into a single result"
      ],
      "metadata": {
        "id": "BHQox-wwkW4e"
      },
      "execution_count": null,
      "outputs": []
    },
    {
      "cell_type": "markdown",
      "source": [
        "11. Using pen and paper write the internal mechanism of sum operation using reduce function on this given list : [47,11,42,13]\n",
        "\n",
        "ans : image attached by me - ![Function assignment.jpg](data:image/jpeg;base64,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)"
      ],
      "metadata": {
        "id": "53cPa9MmkiG5"
      }
    },
    {
      "cell_type": "markdown",
      "source": [
        "\n",
        "\n",
        "                                  PRACTICAL QUESTION\n",
        "\n",
        "1. Write a python function that takes a list of numbers as input and returns the sum of all even numbers in the list.\n"
      ],
      "metadata": {
        "id": "EkmLP-CwqBjK"
      }
    },
    {
      "cell_type": "code",
      "source": [
        "def sum_even_numbers(numbers):\n",
        "    sum_even = 0\n",
        "    for num in numbers:\n",
        "        if num % 2 == 0: # Check if even\n",
        "           sum_even += num\n",
        "    return sum_even\n",
        "# Example usage\n",
        "nums = [1, 2, 3, 4,5,6,7,8,9,10]\n",
        "result = sum_even_numbers(nums)\n",
        "print(\"Sum of even numbers:\", result)"
      ],
      "metadata": {
        "colab": {
          "base_uri": "https://localhost:8080/"
        },
        "id": "e1Y3oOLBrpW6",
        "outputId": "e312e566-bab8-4182-8cbc-b676c4b71e75"
      },
      "execution_count": null,
      "outputs": [
        {
          "output_type": "stream",
          "name": "stdout",
          "text": [
            "Sum of even numbers: 30\n"
          ]
        }
      ]
    },
    {
      "cell_type": "markdown",
      "source": [
        "2. Create a python function that accepts a string and returns the reverse of that string ."
      ],
      "metadata": {
        "id": "32b5sTFvsXS7"
      }
    },
    {
      "cell_type": "code",
      "source": [
        "def reverse_string(s):\n",
        "    return s[::-1] # Slice with step -1\n",
        "\n",
        "\n",
        "   # Example usage\n",
        "text = \"python is a beutiful\"\n",
        "print(reverse_string(text))"
      ],
      "metadata": {
        "colab": {
          "base_uri": "https://localhost:8080/"
        },
        "id": "2YO2CCkYsybL",
        "outputId": "4411dd53-5e8f-43cd-cd2a-94ad1abcb7c8"
      },
      "execution_count": null,
      "outputs": [
        {
          "output_type": "stream",
          "name": "stdout",
          "text": [
            "lufitueb a si nohtyp\n"
          ]
        }
      ]
    },
    {
      "cell_type": "markdown",
      "source": [
        "3. Implement a python function that takes a list of integers and return a new list containing the squares of each numbers."
      ],
      "metadata": {
        "id": "mBiEjnlUtwpA"
      }
    },
    {
      "cell_type": "code",
      "source": [
        "def square_numbers(numbers):\n",
        "    return [x**2 for x in numbers]  # list comprehension\n",
        "\n",
        "    # Example usage\n",
        "    nums = [1, 2, 3, 4, 5]\n",
        "    print(square_numbers(nums))  # OUtput: [1, 4, 9, 16, 25]"
      ],
      "metadata": {
        "id": "BFfYMvID5WZV"
      },
      "execution_count": null,
      "outputs": []
    },
    {
      "cell_type": "markdown",
      "source": [
        "4. Write a python function that checks if given number is prime or not from 1 to 200 ."
      ],
      "metadata": {
        "id": "VUiKRnUf6ebX"
      }
    },
    {
      "cell_type": "code",
      "source": [
        "def is_prime(n):\n",
        "  if n < 2:\n",
        "    return False\n",
        "  for i in range(2, int(n**0.5) + 1):\n",
        "    if n % i == 0:\n",
        "      return False\n",
        "  return True\n",
        "\n",
        "  # Check numbers from 2 to 200\n",
        "for num in range (2, 201):\n",
        "  if is_prime(num):\n",
        "    print(num)"
      ],
      "metadata": {
        "colab": {
          "base_uri": "https://localhost:8080/"
        },
        "id": "Iic7WIBd6y2M",
        "outputId": "51b9e656-fb2d-4643-b792-e1ec0d2e951a"
      },
      "execution_count": null,
      "outputs": [
        {
          "output_type": "stream",
          "name": "stdout",
          "text": [
            "2\n",
            "3\n",
            "5\n",
            "7\n",
            "11\n",
            "13\n",
            "17\n",
            "19\n",
            "23\n",
            "29\n",
            "31\n",
            "37\n",
            "41\n",
            "43\n",
            "47\n",
            "53\n",
            "59\n",
            "61\n",
            "67\n",
            "71\n",
            "73\n",
            "79\n",
            "83\n",
            "89\n",
            "97\n",
            "101\n",
            "103\n",
            "107\n",
            "109\n",
            "113\n",
            "127\n",
            "131\n",
            "137\n",
            "139\n",
            "149\n",
            "151\n",
            "157\n",
            "163\n",
            "167\n",
            "173\n",
            "179\n",
            "181\n",
            "191\n",
            "193\n",
            "197\n",
            "199\n"
          ]
        }
      ]
    },
    {
      "cell_type": "markdown",
      "source": [
        "5. Create an iterator class in python that generates the fibonassi sequence up to the specified numbers of terms."
      ],
      "metadata": {
        "id": "spin5yVe7fb_"
      }
    },
    {
      "cell_type": "code",
      "source": [
        "class Fibonacci:\n",
        "  def __init__(self, terms):\n",
        "    self.terms = terms   # NUmber of terms to generate\n",
        "    self.count = 0   # How terms generated so far\n",
        "    self.a, self.b = 0, 1  # First two fibbonassi numbers\n",
        "\n",
        "  def __iter__(self):\n",
        "    return self  # The iterator object itself\n",
        "\n",
        "  def __next__(self):\n",
        "    if self.count >= self.terms:\n",
        "      raise StopIteration   # Stop iteration  terms are done\n",
        "    if self.count == 0:\n",
        "      self.count += 1\n",
        "      return self.a\n",
        "    elif self.count == 1:\n",
        "      self.count += 1\n",
        "      return self.b\n",
        "    else:\n",
        "      # Generate next Fibonassi number\n",
        "      self.a, self.b = self.b, self.a + self.b\n",
        "      self.count += 1\n",
        "      return self.b\n",
        "\n",
        "# Example usage:\n",
        "fib = Fibonacci(10)\n",
        "for num in fib:\n",
        "  print(num, end=\" \")"
      ],
      "metadata": {
        "colab": {
          "base_uri": "https://localhost:8080/"
        },
        "id": "dXb1ITlq70Zx",
        "outputId": "d15af863-518a-4402-d0f5-1f532e73395a"
      },
      "execution_count": null,
      "outputs": [
        {
          "output_type": "stream",
          "name": "stdout",
          "text": [
            "0 1 1 2 3 5 8 13 21 34 "
          ]
        }
      ]
    },
    {
      "cell_type": "markdown",
      "source": [
        "6. Write a generator function in python that yields the power of 2 up to a given exponent."
      ],
      "metadata": {
        "id": "0DF-WNK3-wTH"
      }
    },
    {
      "cell_type": "code",
      "source": [
        "from ast import expr_context\n",
        "def powers_of_2(exponent):\n",
        "  for i in range(exponent + 1):\n",
        "    yield 2 ** i\n",
        "\n",
        "# Example usage:\n",
        "for power in powers_of_2(5):\n",
        "  print(power)"
      ],
      "metadata": {
        "colab": {
          "base_uri": "https://localhost:8080/"
        },
        "id": "SJuBBJPz_GzL",
        "outputId": "c79bc7b7-2885-46ef-8533-dc826b590b67"
      },
      "execution_count": null,
      "outputs": [
        {
          "output_type": "stream",
          "name": "stdout",
          "text": [
            "1\n",
            "2\n",
            "4\n",
            "8\n",
            "16\n",
            "32\n"
          ]
        }
      ]
    },
    {
      "cell_type": "markdown",
      "source": [
        "7. Implement a generator function that reads the file line by line and yields each line as a string."
      ],
      "metadata": {
        "id": "ewzXmubyAwS5"
      }
    },
    {
      "cell_type": "code",
      "source": [
        "# Create a dummy file for testing\n",
        "with open('example.text', 'w') as f:\n",
        "  f.write(\"This is line 1\\n\")\n",
        "  f.write(\"This is line 2\\n\")\n",
        "  f.write(\"This is line 3\\n\")\n",
        "\n",
        "def read_file_lines(filepath):\n",
        "  with open(filepath, 'r') as file:\n",
        "    for line in file:\n",
        "      yield line.strip()\n",
        "\n",
        "# Example:\n",
        "for line in read_file_lines('example.text'):\n",
        "  print(line)"
      ],
      "metadata": {
        "colab": {
          "base_uri": "https://localhost:8080/"
        },
        "id": "7W_Mdsm1BBkZ",
        "outputId": "33b96252-04ef-4a57-dc65-8d15d1f0a048"
      },
      "execution_count": 67,
      "outputs": [
        {
          "output_type": "stream",
          "name": "stdout",
          "text": [
            "This is line 1\n",
            "This is line 2\n",
            "This is line 3\n"
          ]
        }
      ]
    },
    {
      "cell_type": "markdown",
      "source": [
        "8. Use a lamda function in python to sort a list of tuples based on the second element of each tuple."
      ],
      "metadata": {
        "id": "1xqq1d8rGt2x"
      }
    },
    {
      "cell_type": "code",
      "source": [
        "# sample list of tuples\n",
        "data = [(1, 5), (3, 2), (2, 8), (4, 1)]\n",
        "\n",
        "# Sort the list based on the second element of each tuple\n",
        "sorted_data = sorted(data, key=lambda x: x[1])\n",
        "\n",
        "print(sorted_data)"
      ],
      "metadata": {
        "colab": {
          "base_uri": "https://localhost:8080/"
        },
        "id": "3npWvtauHcNz",
        "outputId": "bb4a5c5d-8f70-47e9-f28f-d98bb75ecabd"
      },
      "execution_count": 68,
      "outputs": [
        {
          "output_type": "stream",
          "name": "stdout",
          "text": [
            "[(4, 1), (3, 2), (1, 5), (2, 8)]\n"
          ]
        }
      ]
    },
    {
      "cell_type": "code",
      "source": [],
      "metadata": {
        "id": "h9ldLqc7Ia6p"
      },
      "execution_count": null,
      "outputs": []
    },
    {
      "cell_type": "markdown",
      "source": [
        "9. Write a python program that uses map() to convert a list of tempreatures from celcias to fahrenheit."
      ],
      "metadata": {
        "id": "kJzEbFcMHyN3"
      }
    },
    {
      "cell_type": "code",
      "source": [
        "# celsius to Fahrenheit conversion formula: (c * 9/5) + 32\n",
        "def celsius_to_fahrenheit(celsius):\n",
        "  return (celsius * 9/5) + 32\n",
        "\n",
        "# List of temperatures in Celsius\n",
        "celsius_temps = [0, 10, 20, 30, 40]\n",
        "\n",
        "# Use map to convert each temperature\n",
        "fahrenheit_temps = list(map(celsius_to_fahrenheit, celsius_temps))\n",
        "\n",
        "print(\"Celsius Temperatures:\", celsius_temps)\n",
        "print(\"Fahrenheit Temperatures:\", fahrenheit_temps)"
      ],
      "metadata": {
        "colab": {
          "base_uri": "https://localhost:8080/"
        },
        "id": "HrG6KlxrIcYv",
        "outputId": "1e014550-8553-4faa-cb6a-84a4fb9cdd3f"
      },
      "execution_count": 69,
      "outputs": [
        {
          "output_type": "stream",
          "name": "stdout",
          "text": [
            "Celsius Temperatures: [0, 10, 20, 30, 40]\n",
            "Fahrenheit Temperatures: [32.0, 50.0, 68.0, 86.0, 104.0]\n"
          ]
        }
      ]
    },
    {
      "cell_type": "markdown",
      "source": [
        "10. Create a python program that uses filter() to remove all the vowels from a given string."
      ],
      "metadata": {
        "id": "jRu0MlH_JreA"
      }
    },
    {
      "cell_type": "code",
      "source": [
        "def remove_vowels(text):\n",
        "    vowels = \"aeiouAEIOU\"\n",
        "    return \"\".join(filter(lambda x: x not in vowels, text))\n",
        "\n",
        "# Example usage:\n",
        "text = \"Hello, World!\"\n",
        "print(remove_vowels(text))"
      ],
      "metadata": {
        "colab": {
          "base_uri": "https://localhost:8080/"
        },
        "id": "SOrXfKuHKFaw",
        "outputId": "5daf90d1-2ffb-4dd8-81c4-7b0c37188ee8"
      },
      "execution_count": 70,
      "outputs": [
        {
          "output_type": "stream",
          "name": "stdout",
          "text": [
            "Hll, Wrld!\n"
          ]
        }
      ]
    },
    {
      "cell_type": "markdown",
      "source": [
        "11. Imagine an accounting routine used in abook shop.it works on the list with sublists, which look like this :\n",
        "\n",
        "order number        book title and author       quantity        price per item\n",
        "34587               learning python,marklutz      4                 40.95\n",
        "98762            programming python,martlutz      5                 56.80\n",
        "77226            Head firts pyhon,paulbarry       3                 32.95\n",
        "88112           Einfuhrung python3,bernd kleinn   3                 24.99\n",
        "\n",
        "Write a python program,which returns a list with 2 tuples ,each tuples consists the order number and the product of the price of the item and the quantity. The product should be increased by 10,if the value of the order is smaller than 100,00\n",
        "\n",
        "write a  python program using with lambda and map"
      ],
      "metadata": {
        "id": "LICFejtSKeB6"
      }
    },
    {
      "cell_type": "code",
      "source": [
        "orders = [[34587, \"Learning Python, Mark Lutz,\", 4, 40.95],[98762, \"programming Python, Mark Lutz\", 5, 56.80],[77226, \"Head First Python, Paul Barry\", 3, 32.95],[88112, \"Einführung in Python3, Bernd Klein\", 3, 24.99]]\n",
        "\n",
        "result = list(map(lambda x: (x[0], x[2] * x[3] + 10) if x[2] * x[3] < 100 else (x[0], x[2] * x[3]), orders))\n",
        "print(result)"
      ],
      "metadata": {
        "colab": {
          "base_uri": "https://localhost:8080/"
        },
        "id": "N93yeJEfNRJp",
        "outputId": "df7806d1-39a7-4f4a-9c10-e19ca1adefd4"
      },
      "execution_count": 72,
      "outputs": [
        {
          "output_type": "stream",
          "name": "stdout",
          "text": [
            "[(34587, 163.8), (98762, 284.0), (77226, 108.85000000000001), (88112, 84.97)]\n"
          ]
        }
      ]
    },
    {
      "cell_type": "markdown",
      "source": [],
      "metadata": {
        "id": "l23SgUAhdu5L"
      }
    }
  ]
}